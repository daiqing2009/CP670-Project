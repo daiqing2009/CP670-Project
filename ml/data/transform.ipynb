{
 "cells": [
  {
   "cell_type": "markdown",
   "metadata": {},
   "source": [
    "Read from music dataset and write it into "
   ]
  },
  {
   "cell_type": "code",
   "execution_count": null,
   "metadata": {},
   "outputs": [],
   "source": [
    "!pip install pandas"
   ]
  },
  {
   "cell_type": "code",
   "execution_count": null,
   "metadata": {},
   "outputs": [],
   "source": [
    "# make working directory if not present\n",
    "!mkdir -p raw/datasets/\n",
    "%cd ./raw/datasets/\n",
    "# fetch datasource for \n",
    "!wget -N https://datarepo.eng.ucsd.edu/mcauley_group/data/amazon_2023/raw/review_categories/CDs_and_Vinyl.jsonl.gz\n",
    "!wget -N https://datarepo.eng.ucsd.edu/mcauley_group/data/amazon_2023/raw/meta_categories/meta_CDs_and_Vinyl.jsonl.gz"
   ]
  },
  {
   "cell_type": "code",
   "execution_count": 1,
   "metadata": {},
   "outputs": [],
   "source": [
    "import pandas as pd\n",
    "import gzip\n",
    "import json\n",
    "\n",
    "def parse(path):\n",
    "  g = gzip.open(path, 'rb')\n",
    "  for l in g:\n",
    "    yield json.loads(l)\n",
    "\n",
    "# add filter during loading\n",
    "def getDF(path, limit=-1, filter=None):\n",
    "  i = 0\n",
    "  df = {}\n",
    "  for d in parse(path):\n",
    "    if(limit >0):\n",
    "      if(i>=limit):\n",
    "        break\n",
    "    if(filter and filter(d)):\n",
    "      #print(d[\"title\"] + \"|\"+str(d[\"average_rating\"])+\"|\"+str(d[\"rating_number\"]))\n",
    "      continue\n",
    "    else:\n",
    "      df[i] = d\n",
    "      i += 1\n",
    "\n",
    "  return pd.DataFrame.from_dict(df, orient='index')"
   ]
  },
  {
   "cell_type": "code",
   "execution_count": 2,
   "metadata": {},
   "outputs": [],
   "source": [
    "def filterByRating(data, average_rating=3, rating_number=20):\n",
    "    if(data['average_rating'] and  data['rating_number']):\n",
    "        return data['average_rating']< average_rating or data['rating_number'] < rating_number\n",
    "    else:\n",
    "        return False\n",
    "\n",
    "def filterByASIN(asin_list=[]):\n",
    "    def filterInList(data):\n",
    "        if(data['asin']):\n",
    "            return (data['asin'] not in asin_list)\n",
    "        else:\n",
    "            return True\n",
    "    return filterInList\n",
    "\n",
    "def filterByParentASIN(asin_list=[]):\n",
    "    def filterInList(data):\n",
    "        if(data['parent_asin']):\n",
    "            return (data['parent_asin'] not in asin_list)\n",
    "        else:\n",
    "            return True\n",
    "    return filterInList\n",
    "  "
   ]
  },
  {
   "cell_type": "code",
   "execution_count": 3,
   "metadata": {},
   "outputs": [
    {
     "data": {
      "text/plain": [
       "'c:\\\\Users\\\\yash_pc\\\\Desktop\\\\Laurier\\\\Spring Term\\\\Android app programming\\\\Project\\\\Practice\\\\CP670-Project_updated\\\\CP670-Project\\\\ml\\\\data'"
      ]
     },
     "execution_count": 3,
     "metadata": {},
     "output_type": "execute_result"
    }
   ],
   "source": [
    "FIELD_CATEGORY = 'categories' #for dataset older than 2023, use 'category'\n",
    "FIELD_JOIN_KEY = 'parent_asin' #for dataset older than 2023, use 'asin'\n",
    "\n",
    "RATINGS_FILE_NAME = \"ratings.dat\"\n",
    "CONTENT_FILE_NAME = \"music.dat\"\n",
    "\n",
    "SEPERATOR = \";\"\n",
    "\n",
    "# making working directory for music\n",
    "!mkdir -p music\n",
    "%pwd"
   ]
  },
  {
   "cell_type": "code",
   "execution_count": 5,
   "metadata": {},
   "outputs": [
    {
     "name": "stdout",
     "output_type": "stream",
     "text": [
      "1000\n"
     ]
    }
   ],
   "source": [
    "import re\n",
    "# Step 1: Read the json file into a DataFrame\n",
    "input_file = 'meta_CDs_and_Vinyl.jsonl.gz'\n",
    "df = getDF(input_file, 1000, filterByRating) #enabled for 2023 data\n",
    "# set music_id according to the since the model requires sequence for music_id\n",
    "# df[\"music_id\"] = df[\"parent_asin\"].apply(hashToInt)\n",
    "df.sort_values(by=\"rating_number\")\n",
    "df[\"music_id\"] = df.reindex().index +1\n",
    "# Step 2: \n",
    "# Filter out default genres\n",
    "genres_to_be_filtered = [\"CDs & Vinyl\"]\n",
    "df[FIELD_CATEGORY] = df[FIELD_CATEGORY].apply(lambda row: [ele for ele in row if ele not in genres_to_be_filtered])\n",
    "# Filter rows where 'category' is non-empty or an empty array\n",
    "filtered_content = df[df[FIELD_CATEGORY].apply(lambda row: isinstance(row, list) and len(row) > 0)]\n",
    "# Show the filtered DataFrame\n",
    "print(filtered_content[FIELD_CATEGORY].count())\n",
    "\n",
    "# tokenize the list in 'category' and concat them with '|' as a sepa\n",
    "filtered_content['genres'] = filtered_content[FIELD_CATEGORY].apply(lambda row: '|'.join(map(str, (row + [item.strip() for sublist in [re.split(r\" & | \",ele) for ele in row] for item in sublist]))))\n",
    "\n",
    "# Step 3: Pick necessary columns and save to csv file\n",
    "selected_content = [\"music_id\", \"title\", \"genres\"]#enabled for 2023 data\n",
    "df_content = filtered_content[selected_content]\n",
    "content_file = 'music/{file_name}'.format(file_name = CONTENT_FILE_NAME)\n",
    "df_content.to_csv(content_file, sep=SEPERATOR, index=False, header=False)"
   ]
  },
  {
   "cell_type": "code",
   "execution_count": 6,
   "metadata": {},
   "outputs": [
    {
     "name": "stdout",
     "output_type": "stream",
     "text": [
      "Fetch comments for  1000 products and supposed ratings to be recieved= 244726\n"
     ]
    }
   ],
   "source": [
    "# # Step 1: Read the json file into a DataFrame\n",
    "input_file = 'CDs_and_Vinyl.jsonl.gz'\n",
    "\n",
    "# step 2: Preprocess the data \n",
    "asin_list=filtered_content[FIELD_JOIN_KEY].to_list()#enabled for 2023 data\n",
    "rating_sum = filtered_content[\"rating_number\"].sum()\n",
    "print(f\"Fetch comments for  {len(asin_list)} products and supposed ratings to be recieved= {rating_sum}\")\n",
    "df = getDF(input_file,rating_sum, filterByParentASIN(asin_list))#enabled for 2023 data\n",
    "# TODO: sum the ratings by parent_asin to see the different in rating_number and actually ratings counted\n",
    "\n",
    "df = df.set_index(FIELD_JOIN_KEY).join(filtered_content.set_index(FIELD_JOIN_KEY), rsuffix=\"meta_\")\n",
    "\n",
    "# Step 3: Pick necessary columns and save to csv \n",
    "selected_rating = [\"user_id\", \"music_id\", \"rating\",\"timestamp\"] #enabled for 2023 data\n",
    "df_rating = df[selected_rating]\n",
    "rating_file = 'music/{file_name}'.format(file_name = RATINGS_FILE_NAME)\n",
    "df_rating.to_csv(rating_file, sep=SEPERATOR, index=False, header=False)"
   ]
  },
  {
   "cell_type": "code",
   "execution_count": 7,
   "metadata": {},
   "outputs": [
    {
     "name": "stdout",
     "output_type": "stream",
     "text": [
      "First few lines for ratings and movies:\n",
      "                         UserID  MovieID  Rating      Timestamp\n",
      "0  AEVQ3KP55X4XECXWMHN6DHIDBYFQ      179     5.0  1406805139000\n",
      "1  AFAIJYOUO3NAWLBDIKTQSC3DASWA      541     5.0  1149955013000\n",
      "2  AHB5CGLYN3Y6NIPHNQLYFJT2W2PQ      981     5.0  1524455984589\n",
      "3  AE7BV6IMNPZ3F266H7PXMH3BZQNQ      266     5.0  1637093229001\n",
      "4  AGEFGQNUBPAGS4JYBD664PSZKDNQ      728     5.0  1351747347000\n",
      "   MovieID                     Title  \\\n",
      "0        1      Release Some Tension   \n",
      "1        2         Somewhere in Time   \n",
      "2        3  Heavy Hearts, Hard Fists   \n",
      "3        4      Malice in Wonderland   \n",
      "4        5                Elvis Live   \n",
      "\n",
      "                                              Genres  \n",
      "0    Dance & Electronic|House|Dance|Electronic|House  \n",
      "1  Soundtracks|Movie Scores|Soundtracks|Movie|Scores  \n",
      "2                                            Pop|Pop  \n",
      "3  Rock|Progressive|Progressive Rock|Rock|Progres...  \n",
      "4                              Pop|Oldies|Pop|Oldies  \n"
     ]
    }
   ],
   "source": [
    "import os\n",
    "RATINGS_DATA_COLUMNS = [\"UserID\", \"MovieID\", \"Rating\", \"Timestamp\"]\n",
    "MOVIES_DATA_COLUMNS = [\"MovieID\", \"Title\", \"Genres\"]\n",
    "\n",
    "print(\"First few lines for ratings and movies:\")\n",
    "\n",
    "# read the data \n",
    "ratings_df = pd.read_csv(\n",
    "    os.path.join(os.curdir, \"music\",RATINGS_FILE_NAME),\n",
    "    sep=SEPERATOR,\n",
    "    names=RATINGS_DATA_COLUMNS,\n",
    "    encoding=\"unicode_escape\")\n",
    "\n",
    "print(ratings_df.head())\n",
    "\n",
    "movies_df = pd.read_csv(\n",
    "    os.path.join(os.curdir, \"music\", CONTENT_FILE_NAME),\n",
    "    sep=SEPERATOR,\n",
    "    names=MOVIES_DATA_COLUMNS,\n",
    "    encoding=\"unicode_escape\")  # May contain unicode. Need to escape.\n",
    "\n",
    "print(movies_df.head())"
   ]
  },
  {
   "cell_type": "code",
   "execution_count": null,
   "metadata": {},
   "outputs": [],
   "source": []
  }
 ],
 "metadata": {
  "kernelspec": {
   "display_name": "Python 3",
   "language": "python",
   "name": "python3"
  },
  "language_info": {
   "codemirror_mode": {
    "name": "ipython",
    "version": 3
   },
   "file_extension": ".py",
   "mimetype": "text/x-python",
   "name": "python",
   "nbconvert_exporter": "python",
   "pygments_lexer": "ipython3",
   "version": "3.12.4"
  }
 },
 "nbformat": 4,
 "nbformat_minor": 2
}
