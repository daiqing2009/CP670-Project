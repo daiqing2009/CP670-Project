{
 "cells": [
  {
   "cell_type": "markdown",
   "metadata": {},
   "source": [
    "Read from music dataset and write it into "
   ]
  },
  {
   "cell_type": "code",
   "execution_count": 23,
   "metadata": {},
   "outputs": [
    {
     "name": "stdout",
     "output_type": "stream",
     "text": [
      "Requirement already satisfied: pandas in c:\\users\\yash_pc\\anaconda3\\lib\\site-packages (2.2.2)\n",
      "Requirement already satisfied: numpy>=1.26.0 in c:\\users\\yash_pc\\anaconda3\\lib\\site-packages (from pandas) (1.26.4)\n",
      "Requirement already satisfied: python-dateutil>=2.8.2 in c:\\users\\yash_pc\\anaconda3\\lib\\site-packages (from pandas) (2.9.0.post0)\n",
      "Requirement already satisfied: pytz>=2020.1 in c:\\users\\yash_pc\\anaconda3\\lib\\site-packages (from pandas) (2024.1)\n",
      "Requirement already satisfied: tzdata>=2022.7 in c:\\users\\yash_pc\\anaconda3\\lib\\site-packages (from pandas) (2023.3)\n",
      "Requirement already satisfied: six>=1.5 in c:\\users\\yash_pc\\anaconda3\\lib\\site-packages (from python-dateutil>=2.8.2->pandas) (1.16.0)\n"
     ]
    }
   ],
   "source": [
    "!pip install pandas\n",
    "SEPERATOR = \"|\""
   ]
  },
  {
   "cell_type": "code",
   "execution_count": null,
   "metadata": {},
   "outputs": [],
   "source": [
    "# make working directory if not present\n",
    "!mkdir -p raw/datasets/\n",
    "%cd ./raw/datasets/\n",
    "# fetch datasource for \n",
    "!wget -N https://datarepo.eng.ucsd.edu/mcauley_group/data/amazon_2023/raw/review_categories/CDs_and_Vinyl.jsonl.gz\n",
    "!wget -N https://datarepo.eng.ucsd.edu/mcauley_group/data/amazon_2023/raw/meta_categories/meta_CDs_and_Vinyl.jsonl.gz\n",
    "# making working directory for music\n",
    "!mkdir -p music"
   ]
  },
  {
   "cell_type": "code",
   "execution_count": 14,
   "metadata": {},
   "outputs": [
    {
     "name": "stdout",
     "output_type": "stream",
     "text": [
      "c:\\Users\\yash_pc\\Desktop\\Laurier\\Spring Term\\Android app programming\\Project\\Practice\\CP670-Project\\ml\\data\n"
     ]
    }
   ],
   "source": [
    "%cd .."
   ]
  },
  {
   "cell_type": "code",
   "execution_count": 15,
   "metadata": {},
   "outputs": [
    {
     "data": {
      "text/plain": [
       "'c:\\\\Users\\\\yash_pc\\\\Desktop\\\\Laurier\\\\Spring Term\\\\Android app programming\\\\Project\\\\Practice\\\\CP670-Project\\\\ml\\\\data'"
      ]
     },
     "execution_count": 15,
     "metadata": {},
     "output_type": "execute_result"
    }
   ],
   "source": [
    "%pwd"
   ]
  },
  {
   "cell_type": "code",
   "execution_count": 24,
   "metadata": {},
   "outputs": [],
   "source": [
    "import pandas as pd\n",
    "import gzip\n",
    "import json\n",
    "\n",
    "def parse(path):\n",
    "  g = gzip.open(path, 'rb')\n",
    "  for l in g:\n",
    "    yield json.loads(l)\n",
    "\n",
    "# add filter during loading\n",
    "def getDF(path, limit=-1, filter=None):\n",
    "  i = 0\n",
    "  df = {}\n",
    "  for d in parse(path):\n",
    "    if(limit >0):\n",
    "      if(i>=limit):\n",
    "        break\n",
    "    if(filter and filter(d)):\n",
    "      #print(d[\"title\"] + \"|\"+str(d[\"average_rating\"])+\"|\"+str(d[\"rating_number\"]))\n",
    "      continue\n",
    "    else:\n",
    "      df[i] = d\n",
    "      i += 1\n",
    "\n",
    "  return pd.DataFrame.from_dict(df, orient='index')"
   ]
  },
  {
   "cell_type": "code",
   "execution_count": 25,
   "metadata": {},
   "outputs": [],
   "source": [
    "def filterByRating(data, average_rating=3, rating_number=20):\n",
    "    if(data['average_rating'] and  data['rating_number']):\n",
    "        return data['average_rating']< average_rating or data['rating_number'] < rating_number\n",
    "    else:\n",
    "        return False\n",
    "\n",
    "def filterByASIN(asin_list=[]):\n",
    "    def filterInList(data):\n",
    "        if(data['asin']):\n",
    "            return (data['asin'] not in asin_list)\n",
    "        else:\n",
    "            return True\n",
    "    return filterInList\n",
    "\n",
    "def filterByParentASIN(asin_list=[]):\n",
    "    def filterInList(data):\n",
    "        if(data['parent_asin']):\n",
    "            return (data['parent_asin'] not in asin_list)\n",
    "        else:\n",
    "            return True\n",
    "    return filterInList"
   ]
  },
  {
   "cell_type": "code",
   "execution_count": 26,
   "metadata": {},
   "outputs": [
    {
     "name": "stdout",
     "output_type": "stream",
     "text": [
      "Fetch comments for  1000 products and supposed ratings to be recieved= 244726\n"
     ]
    }
   ],
   "source": [
    "# Step 1: Read the json file into a DataFrame\n",
    "# input_file = 'CDs_and_Vinyl2018.json.gz'\n",
    "input_file = 'CDs_and_Vinyl.jsonl.gz'\n",
    "\n",
    "# asin_list=filtered_df[\"asin\"].to_list()\n",
    "asin_list=filtered_content[\"parent_asin\"].to_list()#enabled for 2023 data\n",
    "rating_sum = filtered_content[\"rating_number\"].sum()\n",
    "print(f\"Fetch comments for  {len(asin_list)} products and supposed ratings to be recieved= {rating_sum}\")\n",
    "# df = getDF(input_file,1000, filterByASIN(asin_list))\n",
    "df = getDF(input_file,rating_sum, filterByParentASIN(asin_list))#enabled for 2023 data\n",
    "# df[\"music_id\"] = df[\"parent_asin\"].apply(hashToInt)\n",
    "df = df.set_index('parent_asin').join(filtered_content.set_index('parent_asin'), rsuffix=\"meta_\")\n",
    "\n",
    "# TODO: sum the ratings by parent_asin to see the different in rating_number and actually ratings counted\n",
    "\n",
    "# Step 2: Pick necessary columns\n",
    "# selected_rating = [\"asin\", \"user_id\",\"rating\",\"timestamp\"]\n",
    "selected_rating = [\"user_id\", \"music_id\", \"rating\",\"timestamp\"] #enabled for 2023 data\n",
    "df_rating = df[selected_rating]\n",
    "\n",
    "#step 3: Calculate average rating\n",
    "\n",
    "# rating_counts = df_rating['rating'].value_counts().reset_index()\n",
    "# rating_counts.columns = ['rating', 'count']\n",
    "\n",
    "# total_sum_of_ratings = df_rating['rating'].sum()\n",
    "\n",
    "# rating_counts['avg_rating'] = rating_counts['count'] / total_sum_of_ratings\n",
    "\n",
    "# df_rating = df_rating.merge(rating_counts[['rating', 'avg_rating']], on='rating', how='left')\n",
    "\n",
    "avg_ratings = df_rating.groupby('music_id')['rating'].mean().reset_index()\n",
    "avg_ratings.columns = ['music_id', 'avg_rating']\n",
    "\n",
    "# # Merge the average rating back into the original df_rating\n",
    "# df_rating = df_rating.merge(avg_ratings, on='music_id', how='left')\n",
    "avg_ratings.to_csv('temp_avg_ratings.csv', index=False)\n",
    "\n",
    "# Step 4: Save the transformed DataFrame to a new CSV file with a custom separator and no header\n",
    "# rating_file = 'music/rating2018.dat'\n",
    "rating_file = 'music/rating2023.dat'\n",
    "temp_rating_file = rating_file+'_temp'\n",
    "df_rating.to_csv(rating_file, sep=SEPERATOR, index=False, header=False)\n",
    "# with open(temp_rating_file, 'r') as file:\n",
    "#     file_data = file.read()\n",
    "# file_data = file_data.replace(',', '::')\n",
    "# with open(rating_file, 'w') as file:\n",
    "#     file.write(file_data)"
   ]
  },
  {
   "cell_type": "code",
   "execution_count": 27,
   "metadata": {},
   "outputs": [
    {
     "name": "stdout",
     "output_type": "stream",
     "text": [
      "1000\n"
     ]
    }
   ],
   "source": [
    "# # Step 1: Read the json file into a DataFrame\n",
    "# # input_file = 'meta_CDs_and_Vinyl2018.json.gz'\n",
    "# input_file = 'meta_CDs_and_Vinyl.jsonl.gz'\n",
    "# df = getDF(input_file, 1000, filterByRating) #enabled for 2023 data\n",
    "\n",
    "# # set music_id according to the since the model requires sequence for music_id\n",
    "# # df[\"music_id\"] = df[\"parent_asin\"].apply(hashToInt)\n",
    "# df.sort_values(by=\"rating_number\")\n",
    "# df[\"music_id\"] = df.reindex().index +1\n",
    "\n",
    "# #print(df.head())\n",
    "# # Filter rows where 'category' is non-empty or an empty array\n",
    "# # filtered_df = df[df['category'].apply(lambda x: isinstance(x, list) and len(x) > 0)]\n",
    "# filtered_content = df[df['categories'].apply(lambda x: isinstance(x, list) and len(x) > 0)]#enabled for 2023 data\n",
    "# # Show the filtered DataFrame\n",
    "# print(filtered_content['categories'].count())\n",
    "\n",
    "# # convert id into int\n",
    "\n",
    "# # Convert the list in 'category' to a string with '|' as a separator\n",
    "# # filtered_df['genres'] = filtered_df['category'].apply(lambda x: '|'.join(map(str, x)))\n",
    "# filtered_content['genres'] = filtered_content['categories'].apply(lambda x: '|'.join(map(str, x)))#enabled for 2023 data\n",
    "# # Step 2: Pick necessary columns\n",
    "# # selected_content = [\"asin\", \"title\", \"genres\"]\n",
    "# selected_content = [\"music_id\", \"title\", \"genres\"]#enabled for 2023 data\n",
    "# df_content = filtered_content[selected_content]\n",
    "\n",
    "\n",
    "# # Step 3: Save the transformed DataFrame to a new CSV file with a custom separator and no header\n",
    "# # content_file = 'music/music2018.dat'\n",
    "# content_file = 'music/music2023.dat'\n",
    "\n",
    "# temp_content_file = content_file+'_temp'\n",
    "# df_content.to_csv(content_file, sep=SEPERATOR, index=False, header=False)\n",
    "# # with open(temp_content_file, 'r') as file:\n",
    "# #     file_data = file.read()\n",
    "# # file_data = file_data.replace(',', '::')\n",
    "# # with open(content_file, 'w') as file:\n",
    "# #     file.write(file_data) \n",
    "\n",
    "import pandas as pd\n",
    "\n",
    "# Step 1: Read the json file into a DataFrame\n",
    "input_file = 'meta_CDs_and_Vinyl.jsonl.gz'\n",
    "df = getDF(input_file, 1000, filterByRating)\n",
    "\n",
    "# Set music_id\n",
    "df.sort_values(by=\"rating_number\")\n",
    "df[\"music_id\"] = df.reindex().index + 1\n",
    "\n",
    "# Filter rows where 'categories' is non-empty\n",
    "filtered_content = df[df['categories'].apply(lambda x: isinstance(x, list) and len(x) > 0)]\n",
    "print(filtered_content['categories'].count())\n",
    "\n",
    "# Convert the list in 'categories' to a string with '|' as a separator\n",
    "filtered_content['genres'] = filtered_content['categories'].apply(lambda x: '|'.join(map(str, x)))\n",
    "\n",
    "# Step 2: Pick necessary columns\n",
    "selected_content = [\"music_id\", \"title\", \"genres\"]\n",
    "df_content = filtered_content[selected_content]\n",
    "\n",
    "# Load avg_ratings from the temporary file\n",
    "avg_ratings = pd.read_csv('temp_avg_ratings.csv')\n",
    "\n",
    "# Merge avg_ratings into df_content\n",
    "df_content = df_content.merge(avg_ratings, on='music_id', how='left')\n",
    "\n",
    "# Step 3: Save the transformed DataFrame to a new CSV file with a custom separator and no header\n",
    "content_file = 'music/music2023.dat'\n",
    "df_content.to_csv(content_file, sep=SEPERATOR, index=False, header=False)\n",
    "\n",
    "# Optionally, remove the temporary file\n",
    "import os\n",
    "os.remove('temp_avg_ratings.csv')"
   ]
  },
  {
   "cell_type": "code",
   "execution_count": 22,
   "metadata": {},
   "outputs": [
    {
     "name": "stdout",
     "output_type": "stream",
     "text": [
      "First few lines for ratings and movies:\n",
      "                         UserID  MovieID  Rating      Timestamp\n",
      "0  AEVQ3KP55X4XECXWMHN6DHIDBYFQ      179     5.0  1406805139000\n",
      "1  AFAIJYOUO3NAWLBDIKTQSC3DASWA      541     5.0  1149955013000\n",
      "2  AHB5CGLYN3Y6NIPHNQLYFJT2W2PQ      981     5.0  1524455984589\n",
      "3  AE7BV6IMNPZ3F266H7PXMH3BZQNQ      266     5.0  1637093229001\n",
      "4  AGEFGQNUBPAGS4JYBD664PSZKDNQ      728     5.0  1351747347000\n",
      "                    MovieID                                          Title  \\\n",
      "1      Release Some Tension           CDs & Vinyl|Dance & Electronic|House   \n",
      "2         Somewhere in Time           CDs & Vinyl|Soundtracks|Movie Scores   \n",
      "3  Heavy Hearts, Hard Fists                                CDs & Vinyl|Pop   \n",
      "4      Malice in Wonderland  CDs & Vinyl|Rock|Progressive|Progressive Rock   \n",
      "5                Elvis Live                         CDs & Vinyl|Pop|Oldies   \n",
      "\n",
      "     Genres  \n",
      "1  3.291667  \n",
      "2  5.000000  \n",
      "3  4.428571  \n",
      "4  3.800000  \n",
      "5  4.595745  \n"
     ]
    }
   ],
   "source": [
    "import os\n",
    "RATINGS_FILE_NAME = \"rating2023.dat\"\n",
    "MOVIES_FILE_NAME = \"music2023.dat\"\n",
    "RATINGS_DATA_COLUMNS = [\"UserID\", \"MovieID\", \"Rating\", \"Timestamp\"]\n",
    "MOVIES_DATA_COLUMNS = [\"MovieID\", \"Title\", \"Genres\"]\n",
    "OUTPUT_TRAINING_DATA_FILENAME = \"train_music_amz2023.tfrecord\"\n",
    "OUTPUT_TESTING_DATA_FILENAME = \"test_music_amz2023.tfrecord\"\n",
    "\n",
    "print(\"First few lines for ratings and movies:\")\n",
    "\n",
    "# read the data \n",
    "ratings_df = pd.read_csv(\n",
    "    os.path.join(os.curdir, \"music\",RATINGS_FILE_NAME),\n",
    "    sep=SEPERATOR,\n",
    "    names=RATINGS_DATA_COLUMNS,\n",
    "    encoding=\"unicode_escape\")\n",
    "\n",
    "print(ratings_df.head())\n",
    "\n",
    "movies_df = pd.read_csv(\n",
    "    os.path.join(os.curdir, \"music\", MOVIES_FILE_NAME),\n",
    "    sep=SEPERATOR,\n",
    "    names=MOVIES_DATA_COLUMNS,\n",
    "    encoding=\"unicode_escape\")  # May contain unicode. Need to escape.\n",
    "\n",
    "print(movies_df.head())"
   ]
  },
  {
   "cell_type": "code",
   "execution_count": null,
   "metadata": {},
   "outputs": [],
   "source": []
  }
 ],
 "metadata": {
  "kernelspec": {
   "display_name": "Python 3",
   "language": "python",
   "name": "python3"
  },
  "language_info": {
   "codemirror_mode": {
    "name": "ipython",
    "version": 3
   },
   "file_extension": ".py",
   "mimetype": "text/x-python",
   "name": "python",
   "nbconvert_exporter": "python",
   "pygments_lexer": "ipython3",
   "version": "3.12.4"
  }
 },
 "nbformat": 4,
 "nbformat_minor": 2
}
