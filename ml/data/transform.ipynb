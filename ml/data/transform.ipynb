{
 "cells": [
  {
   "cell_type": "markdown",
   "metadata": {},
   "source": [
    "Read from music dataset and write it into "
   ]
  },
  {
   "cell_type": "code",
   "execution_count": 11,
   "metadata": {},
   "outputs": [
    {
     "name": "stdout",
     "output_type": "stream",
     "text": [
      "Requirement already satisfied: pandas in /Users/qing/MAC/CP670 Android/project/sample/.conda/lib/python3.10/site-packages (2.2.2)\n",
      "Requirement already satisfied: numpy>=1.22.4 in /Users/qing/MAC/CP670 Android/project/sample/.conda/lib/python3.10/site-packages (from pandas) (1.26.4)\n",
      "Requirement already satisfied: python-dateutil>=2.8.2 in /Users/qing/MAC/CP670 Android/project/sample/.conda/lib/python3.10/site-packages (from pandas) (2.9.0.post0)\n",
      "Requirement already satisfied: pytz>=2020.1 in /Users/qing/MAC/CP670 Android/project/sample/.conda/lib/python3.10/site-packages (from pandas) (2024.1)\n",
      "Requirement already satisfied: tzdata>=2022.7 in /Users/qing/MAC/CP670 Android/project/sample/.conda/lib/python3.10/site-packages (from pandas) (2024.1)\n",
      "Requirement already satisfied: six>=1.5 in /Users/qing/MAC/CP670 Android/project/sample/.conda/lib/python3.10/site-packages (from python-dateutil>=2.8.2->pandas) (1.16.0)\n"
     ]
    }
   ],
   "source": [
    "!pip install pandas"
   ]
  },
  {
   "cell_type": "code",
   "execution_count": 22,
   "metadata": {},
   "outputs": [],
   "source": [
    "# mkdir music if not exists\n",
    "!mkdir -p ./raw/datasets/music\n",
    "SEPERATOR = \";\""
   ]
  },
  {
   "cell_type": "code",
   "execution_count": 13,
   "metadata": {},
   "outputs": [],
   "source": [
    "import pandas as pd\n",
    "import gzip\n",
    "import json\n",
    "\n",
    "def parse(path):\n",
    "  g = gzip.open(path, 'rb')\n",
    "  for l in g:\n",
    "    yield json.loads(l)\n",
    "\n",
    "# add filter during loading\n",
    "def getDF(path, limit=-1, filter=None):\n",
    "  i = 0\n",
    "  df = {}\n",
    "  for d in parse(path):\n",
    "    if(limit >0):\n",
    "      if(i>=limit):\n",
    "        break\n",
    "    if(filter and filter(d)):\n",
    "      #print(d[\"title\"] + \"|\"+str(d[\"average_rating\"])+\"|\"+str(d[\"rating_number\"]))\n",
    "      continue\n",
    "    else:\n",
    "      df[i] = d\n",
    "      i += 1\n",
    "\n",
    "  return pd.DataFrame.from_dict(df, orient='index')"
   ]
  },
  {
   "cell_type": "code",
   "execution_count": 14,
   "metadata": {},
   "outputs": [],
   "source": [
    "def filterByRating(data, average_rating=3.5, rating_number=10):\n",
    "    if(data['average_rating'] and  data['rating_number']):\n",
    "        return data['average_rating']< average_rating or data['rating_number'] < rating_number\n",
    "    else:\n",
    "        return False\n",
    "\n",
    "def filterByASIN(asin_list=[]):\n",
    "    def filterInList(data):\n",
    "        if(data['asin']):\n",
    "            return (data['asin'] not in asin_list)\n",
    "        else:\n",
    "            return True\n",
    "    return filterInList\n",
    "\n",
    "def filterByParentASIN(asin_list=[]):\n",
    "    def filterInList(data):\n",
    "        if(data['parent_asin']):\n",
    "            return (data['parent_asin'] not in asin_list)\n",
    "        else:\n",
    "            return True\n",
    "    return filterInList"
   ]
  },
  {
   "cell_type": "code",
   "execution_count": 15,
   "metadata": {},
   "outputs": [],
   "source": [
    "import math\n",
    "def convertToNumber (s):\n",
    "    return int.from_bytes(s.encode(), 'little')\n",
    "\n",
    "def convertFromNumber (n):\n",
    "    return n.to_bytes(math.ceil(n.bit_length() / 8), 'little').decode()"
   ]
  },
  {
   "cell_type": "code",
   "execution_count": 28,
   "metadata": {},
   "outputs": [],
   "source": [
    "import hashlib\n",
    "def hashToInt(s):\n",
    "    return int(hashlib.sha1(s.encode(\"utf-8\")).hexdigest(), 16) % (10 ** 4)"
   ]
  },
  {
   "cell_type": "code",
   "execution_count": 29,
   "metadata": {},
   "outputs": [
    {
     "name": "stdout",
     "output_type": "stream",
     "text": [
      "main_category      1000\n",
      "title              1000\n",
      "average_rating     1000\n",
      "rating_number      1000\n",
      "features           1000\n",
      "description        1000\n",
      "price               856\n",
      "images             1000\n",
      "videos             1000\n",
      "store               998\n",
      "categories         1000\n",
      "details            1000\n",
      "parent_asin        1000\n",
      "bought_together       0\n",
      "subtitle              4\n",
      "author                4\n",
      "music_id           1000\n",
      "dtype: int64\n"
     ]
    }
   ],
   "source": [
    "# Step 1: Read the json file into a DataFrame\n",
    "# input_file = 'meta_CDs_and_Vinyl2018.json.gz'\n",
    "input_file = './raw/datasets/meta_CDs_and_Vinyl2023.jsonl.gz'\n",
    "# df = getDF(input_file, 100)\n",
    "df = getDF(input_file, 1000, filterByRating) #enabled for 2023 data\n",
    "df[\"music_id\"] = df[\"parent_asin\"].apply(hashToInt)\n",
    "#TODO: check redudency of hash\n",
    "\n",
    "#print(df.head())\n",
    "# Filter rows where 'category' is non-empty or an empty array\n",
    "# filtered_df = df[df['category'].apply(lambda x: isinstance(x, list) and len(x) > 0)]\n",
    "filtered_df = df[df['categories'].apply(lambda x: isinstance(x, list) and len(x) > 0)]#enabled for 2023 data\n",
    "# Show the filtered DataFrame\n",
    "print(filtered_df.count())\n",
    "\n",
    "# convert id into int\n",
    "\n",
    "# Convert the list in 'category' to a string with '|' as a separator\n",
    "# filtered_df['genres'] = filtered_df['category'].apply(lambda x: '|'.join(map(str, x)))\n",
    "filtered_df['genres'] = filtered_df['categories'].apply(lambda x: '|'.join(map(str, x)))#enabled for 2023 data\n",
    "# Step 2: Pick necessary columns\n",
    "# selected_content = [\"asin\", \"title\", \"genres\"]\n",
    "selected_content = [\"music_id\", \"title\", \"genres\"]#enabled for 2023 data\n",
    "df_content = filtered_df[selected_content]\n",
    "\n",
    "# Step 3: Save the transformed DataFrame to a new CSV file with a custom separator and no header\n",
    "# content_file = 'music/music2018.dat'\n",
    "content_file = './raw/datasets/music/music2023.dat'\n",
    "\n",
    "temp_content_file = content_file+'_temp'\n",
    "df_content.to_csv(content_file, sep=SEPERATOR, index=False, header=False)\n",
    "# with open(temp_content_file, 'r') as file:\n",
    "#     file_data = file.read()\n",
    "# file_data = file_data.replace(',', '::')\n",
    "# with open(content_file, 'w') as file:\n",
    "#     file.write(file_data)"
   ]
  },
  {
   "cell_type": "code",
   "execution_count": 30,
   "metadata": {},
   "outputs": [],
   "source": [
    "# Step 1: Read the json file into a DataFrame\n",
    "# input_file = 'CDs_and_Vinyl2018.json.gz'\n",
    "input_file = './raw/datasets/CDs_and_Vinyl2023.jsonl.gz'\n",
    "\n",
    "# asin_list=filtered_df[\"asin\"].to_list()\n",
    "asin_list=filtered_df[\"parent_asin\"].to_list()#enabled for 2023 data\n",
    "count = filtered_df[\"rating_number\"].sum()\n",
    "\n",
    "# df = getDF(input_file,1000, filterByASIN(asin_list))\n",
    "df = getDF(input_file,count, filterByParentASIN(asin_list))#enabled for 2023 data\n",
    "# print(df.head())\n",
    "df[\"music_id\"] = df[\"parent_asin\"].apply(hashToInt)\n",
    "\n",
    "# TODO: sum the ratings by parent_asin to see the different in rating_number and actually ratings counted\n",
    "\n",
    "# Step 2: Pick necessary columns\n",
    "# selected_rating = [\"asin\", \"user_id\",\"rating\",\"timestamp\"]\n",
    "selected_rating = [\"user_id\", \"music_id\", \"rating\",\"timestamp\"] #enabled for 2023 data\n",
    "df_rating = df[selected_rating]\n",
    "\n",
    "# Step 3: Save the transformed DataFrame to a new CSV file with a custom separator and no header\n",
    "# rating_file = 'music/rating2018.dat'\n",
    "rating_file = './raw/datasets/music/rating2023.dat'\n",
    "temp_rating_file = rating_file+'_temp'\n",
    "df_rating.to_csv(rating_file, sep=SEPERATOR, index=False, header=False)\n",
    "# with open(temp_rating_file, 'r') as file:\n",
    "#     file_data = file.read()\n",
    "# file_data = file_data.replace(',', '::')\n",
    "# with open(rating_file, 'w') as file:\n",
    "#     file.write(file_data)"
   ]
  },
  {
   "cell_type": "code",
   "execution_count": null,
   "metadata": {},
   "outputs": [
    {
     "name": "stdout",
     "output_type": "stream",
     "text": [
      "                         UserID                   MovieID  Rating  \\\n",
      "0  AEVQ3KP55X4XECXWMHN6DHIDBYFQ  412271059740562891485250     5.0   \n",
      "1  AFAIJYOUO3NAWLBDIKTQSC3DASWA  237470218963625094164546     5.0   \n",
      "2  AE7BV6IMNPZ3F266H7PXMH3BZQNQ  355732224288405891657794     5.0   \n",
      "3  AEUZHPIGXLWEQ7HW5LRYEPD3QYCQ  407493706522678071930946     5.0   \n",
      "4  AER2M7E2IHDHZDVVXCFXTYKJ6EXQ  374399965658448707792962     5.0   \n",
      "\n",
      "       Timestamp  \n",
      "0  1406805139000  \n",
      "1  1149955013000  \n",
      "2  1637093229001  \n",
      "3  1541959749242  \n",
      "4  1578516789976  \n",
      "                         UserID                   MovieID  Rating  \\\n",
      "0  AEVQ3KP55X4XECXWMHN6DHIDBYFQ  412271059740562891485250     5.0   \n",
      "1  AFAIJYOUO3NAWLBDIKTQSC3DASWA  237470218963625094164546     5.0   \n",
      "2  AE7BV6IMNPZ3F266H7PXMH3BZQNQ  355732224288405891657794     5.0   \n",
      "3  AEUZHPIGXLWEQ7HW5LRYEPD3QYCQ  407493706522678071930946     5.0   \n",
      "4  AER2M7E2IHDHZDVVXCFXTYKJ6EXQ  374399965658448707792962     5.0   \n",
      "\n",
      "       Timestamp  \n",
      "0  1406805139000  \n",
      "1  1149955013000  \n",
      "2  1637093229001  \n",
      "3  1541959749242  \n",
      "4  1578516789976  \n"
     ]
    }
   ],
   "source": [
    "import os\n",
    "RATINGS_FILE_NAME = \"rating2023.dat\"\n",
    "MOVIES_FILE_NAME = \"music2023.dat\"\n",
    "RATINGS_DATA_COLUMNS = [\"UserID\", \"MovieID\", \"Rating\", \"Timestamp\"]\n",
    "MOVIES_DATA_COLUMNS = [\"MovieID\", \"Title\", \"Genres\"]\n",
    "OUTPUT_TRAINING_DATA_FILENAME = \"train_music_amz2023.tfrecord\"\n",
    "OUTPUT_TESTING_DATA_FILENAME = \"test_music_amz2023.tfrecord\"\n",
    "\n",
    "# read the data \n",
    "ratings_df = pd.read_csv(\n",
    "    os.path.join(os.curdir, \"music\",RATINGS_FILE_NAME),\n",
    "    sep=SEPERATOR,\n",
    "    names=RATINGS_DATA_COLUMNS,\n",
    "    encoding=\"unicode_escape\")\n",
    "\n",
    "print(ratings_df.head())\n",
    "\n",
    "movies_df = pd.read_csv(\n",
    "    os.path.join(os.curdir, \"music\", MOVIES_FILE_NAME),\n",
    "    sep=SEPERATOR,\n",
    "    names=MOVIES_DATA_COLUMNS,\n",
    "    encoding=\"unicode_escape\")  # May contain unicode. Need to escape.\n",
    "\n",
    "print(ratings_df.head())"
   ]
  }
 ],
 "metadata": {
  "kernelspec": {
   "display_name": "Python 3",
   "language": "python",
   "name": "python3"
  },
  "language_info": {
   "codemirror_mode": {
    "name": "ipython",
    "version": 3
   },
   "file_extension": ".py",
   "mimetype": "text/x-python",
   "name": "python",
   "nbconvert_exporter": "python",
   "pygments_lexer": "ipython3",
   "version": "3.10.14"
  }
 },
 "nbformat": 4,
 "nbformat_minor": 2
}
